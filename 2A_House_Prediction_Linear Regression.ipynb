{
 "cells": [
  {
   "cell_type": "code",
   "execution_count": 35,
   "id": "2c9de3ec",
   "metadata": {},
   "outputs": [],
   "source": [
    "from pyspark.sql import SparkSession\n",
    "from pyspark.ml.feature import StringIndexer, OneHotEncoder, VectorAssembler\n",
    "from pyspark.ml.regression import LinearRegression\n",
    "from pyspark.ml import Pipeline\n",
    "from pyspark.ml.evaluation import RegressionEvaluator\n"
   ]
  },
  {
   "cell_type": "code",
   "execution_count": 36,
   "id": "ed2f1897",
   "metadata": {},
   "outputs": [],
   "source": [
    "from pyspark.sql import SparkSession\n",
    "\n",
    "spark = SparkSession.builder.appName(\"HousingPrediction\").getOrCreate()\n",
    "\n",
    "train_df = spark.read.csv(\"train.csv\", header=True, inferSchema=True)\n",
    "test_df = spark.read.csv(\"test.csv\", header=True, inferSchema=True)\n"
   ]
  },
  {
   "cell_type": "code",
   "execution_count": 37,
   "id": "cd7880ad",
   "metadata": {},
   "outputs": [
    {
     "name": "stdout",
     "output_type": "stream",
     "text": [
      "root\n",
      " |-- Id: integer (nullable = true)\n",
      " |-- MSSubClass: integer (nullable = true)\n",
      " |-- MSZoning: string (nullable = true)\n",
      " |-- LotFrontage: string (nullable = true)\n",
      " |-- LotArea: integer (nullable = true)\n",
      " |-- Street: string (nullable = true)\n",
      " |-- Alley: string (nullable = true)\n",
      " |-- LotShape: string (nullable = true)\n",
      " |-- LandContour: string (nullable = true)\n",
      " |-- Utilities: string (nullable = true)\n",
      " |-- LotConfig: string (nullable = true)\n",
      " |-- LandSlope: string (nullable = true)\n",
      " |-- Neighborhood: string (nullable = true)\n",
      " |-- Condition1: string (nullable = true)\n",
      " |-- Condition2: string (nullable = true)\n",
      " |-- BldgType: string (nullable = true)\n",
      " |-- HouseStyle: string (nullable = true)\n",
      " |-- OverallQual: integer (nullable = true)\n",
      " |-- OverallCond: integer (nullable = true)\n",
      " |-- YearBuilt: integer (nullable = true)\n",
      " |-- YearRemodAdd: integer (nullable = true)\n",
      " |-- RoofStyle: string (nullable = true)\n",
      " |-- RoofMatl: string (nullable = true)\n",
      " |-- Exterior1st: string (nullable = true)\n",
      " |-- Exterior2nd: string (nullable = true)\n",
      " |-- MasVnrType: string (nullable = true)\n",
      " |-- MasVnrArea: string (nullable = true)\n",
      " |-- ExterQual: string (nullable = true)\n",
      " |-- ExterCond: string (nullable = true)\n",
      " |-- Foundation: string (nullable = true)\n",
      " |-- BsmtQual: string (nullable = true)\n",
      " |-- BsmtCond: string (nullable = true)\n",
      " |-- BsmtExposure: string (nullable = true)\n",
      " |-- BsmtFinType1: string (nullable = true)\n",
      " |-- BsmtFinSF1: integer (nullable = true)\n",
      " |-- BsmtFinType2: string (nullable = true)\n",
      " |-- BsmtFinSF2: integer (nullable = true)\n",
      " |-- BsmtUnfSF: integer (nullable = true)\n",
      " |-- TotalBsmtSF: integer (nullable = true)\n",
      " |-- Heating: string (nullable = true)\n",
      " |-- HeatingQC: string (nullable = true)\n",
      " |-- CentralAir: string (nullable = true)\n",
      " |-- Electrical: string (nullable = true)\n",
      " |-- 1stFlrSF: integer (nullable = true)\n",
      " |-- 2ndFlrSF: integer (nullable = true)\n",
      " |-- LowQualFinSF: integer (nullable = true)\n",
      " |-- GrLivArea: integer (nullable = true)\n",
      " |-- BsmtFullBath: integer (nullable = true)\n",
      " |-- BsmtHalfBath: integer (nullable = true)\n",
      " |-- FullBath: integer (nullable = true)\n",
      " |-- HalfBath: integer (nullable = true)\n",
      " |-- BedroomAbvGr: integer (nullable = true)\n",
      " |-- KitchenAbvGr: integer (nullable = true)\n",
      " |-- KitchenQual: string (nullable = true)\n",
      " |-- TotRmsAbvGrd: integer (nullable = true)\n",
      " |-- Functional: string (nullable = true)\n",
      " |-- Fireplaces: integer (nullable = true)\n",
      " |-- FireplaceQu: string (nullable = true)\n",
      " |-- GarageType: string (nullable = true)\n",
      " |-- GarageYrBlt: string (nullable = true)\n",
      " |-- GarageFinish: string (nullable = true)\n",
      " |-- GarageCars: integer (nullable = true)\n",
      " |-- GarageArea: integer (nullable = true)\n",
      " |-- GarageQual: string (nullable = true)\n",
      " |-- GarageCond: string (nullable = true)\n",
      " |-- PavedDrive: string (nullable = true)\n",
      " |-- WoodDeckSF: integer (nullable = true)\n",
      " |-- OpenPorchSF: integer (nullable = true)\n",
      " |-- EnclosedPorch: integer (nullable = true)\n",
      " |-- 3SsnPorch: integer (nullable = true)\n",
      " |-- ScreenPorch: integer (nullable = true)\n",
      " |-- PoolArea: integer (nullable = true)\n",
      " |-- PoolQC: string (nullable = true)\n",
      " |-- Fence: string (nullable = true)\n",
      " |-- MiscFeature: string (nullable = true)\n",
      " |-- MiscVal: integer (nullable = true)\n",
      " |-- MoSold: integer (nullable = true)\n",
      " |-- YrSold: integer (nullable = true)\n",
      " |-- SaleType: string (nullable = true)\n",
      " |-- SaleCondition: string (nullable = true)\n",
      " |-- SalePrice: integer (nullable = true)\n",
      "\n",
      "root\n",
      " |-- Id: integer (nullable = true)\n",
      " |-- MSSubClass: integer (nullable = true)\n",
      " |-- MSZoning: string (nullable = true)\n",
      " |-- LotFrontage: string (nullable = true)\n",
      " |-- LotArea: integer (nullable = true)\n",
      " |-- Street: string (nullable = true)\n",
      " |-- Alley: string (nullable = true)\n",
      " |-- LotShape: string (nullable = true)\n",
      " |-- LandContour: string (nullable = true)\n",
      " |-- Utilities: string (nullable = true)\n",
      " |-- LotConfig: string (nullable = true)\n",
      " |-- LandSlope: string (nullable = true)\n",
      " |-- Neighborhood: string (nullable = true)\n",
      " |-- Condition1: string (nullable = true)\n",
      " |-- Condition2: string (nullable = true)\n",
      " |-- BldgType: string (nullable = true)\n",
      " |-- HouseStyle: string (nullable = true)\n",
      " |-- OverallQual: integer (nullable = true)\n",
      " |-- OverallCond: integer (nullable = true)\n",
      " |-- YearBuilt: integer (nullable = true)\n",
      " |-- YearRemodAdd: integer (nullable = true)\n",
      " |-- RoofStyle: string (nullable = true)\n",
      " |-- RoofMatl: string (nullable = true)\n",
      " |-- Exterior1st: string (nullable = true)\n",
      " |-- Exterior2nd: string (nullable = true)\n",
      " |-- MasVnrType: string (nullable = true)\n",
      " |-- MasVnrArea: string (nullable = true)\n",
      " |-- ExterQual: string (nullable = true)\n",
      " |-- ExterCond: string (nullable = true)\n",
      " |-- Foundation: string (nullable = true)\n",
      " |-- BsmtQual: string (nullable = true)\n",
      " |-- BsmtCond: string (nullable = true)\n",
      " |-- BsmtExposure: string (nullable = true)\n",
      " |-- BsmtFinType1: string (nullable = true)\n",
      " |-- BsmtFinSF1: string (nullable = true)\n",
      " |-- BsmtFinType2: string (nullable = true)\n",
      " |-- BsmtFinSF2: string (nullable = true)\n",
      " |-- BsmtUnfSF: string (nullable = true)\n",
      " |-- TotalBsmtSF: string (nullable = true)\n",
      " |-- Heating: string (nullable = true)\n",
      " |-- HeatingQC: string (nullable = true)\n",
      " |-- CentralAir: string (nullable = true)\n",
      " |-- Electrical: string (nullable = true)\n",
      " |-- 1stFlrSF: integer (nullable = true)\n",
      " |-- 2ndFlrSF: integer (nullable = true)\n",
      " |-- LowQualFinSF: integer (nullable = true)\n",
      " |-- GrLivArea: integer (nullable = true)\n",
      " |-- BsmtFullBath: string (nullable = true)\n",
      " |-- BsmtHalfBath: string (nullable = true)\n",
      " |-- FullBath: integer (nullable = true)\n",
      " |-- HalfBath: integer (nullable = true)\n",
      " |-- BedroomAbvGr: integer (nullable = true)\n",
      " |-- KitchenAbvGr: integer (nullable = true)\n",
      " |-- KitchenQual: string (nullable = true)\n",
      " |-- TotRmsAbvGrd: integer (nullable = true)\n",
      " |-- Functional: string (nullable = true)\n",
      " |-- Fireplaces: integer (nullable = true)\n",
      " |-- FireplaceQu: string (nullable = true)\n",
      " |-- GarageType: string (nullable = true)\n",
      " |-- GarageYrBlt: string (nullable = true)\n",
      " |-- GarageFinish: string (nullable = true)\n",
      " |-- GarageCars: string (nullable = true)\n",
      " |-- GarageArea: string (nullable = true)\n",
      " |-- GarageQual: string (nullable = true)\n",
      " |-- GarageCond: string (nullable = true)\n",
      " |-- PavedDrive: string (nullable = true)\n",
      " |-- WoodDeckSF: integer (nullable = true)\n",
      " |-- OpenPorchSF: integer (nullable = true)\n",
      " |-- EnclosedPorch: integer (nullable = true)\n",
      " |-- 3SsnPorch: integer (nullable = true)\n",
      " |-- ScreenPorch: integer (nullable = true)\n",
      " |-- PoolArea: integer (nullable = true)\n",
      " |-- PoolQC: string (nullable = true)\n",
      " |-- Fence: string (nullable = true)\n",
      " |-- MiscFeature: string (nullable = true)\n",
      " |-- MiscVal: integer (nullable = true)\n",
      " |-- MoSold: integer (nullable = true)\n",
      " |-- YrSold: integer (nullable = true)\n",
      " |-- SaleType: string (nullable = true)\n",
      " |-- SaleCondition: string (nullable = true)\n",
      "\n"
     ]
    }
   ],
   "source": [
    "train_df.printSchema()\n",
    "test_df.printSchema()"
   ]
  },
  {
   "cell_type": "code",
   "execution_count": 38,
   "id": "8451aec9",
   "metadata": {},
   "outputs": [],
   "source": [
    "train_df = train_df.dropna()\n",
    "test_df = test_df.dropna()\n",
    "\n",
    "# Example: Convert string columns to numerical\n",
    "train_df = train_df.withColumn(\"LotFrontage\", train_df[\"LotFrontage\"].cast(\"double\"))\n",
    "train_df = train_df.withColumn(\"MasVnrArea\", train_df[\"MasVnrArea\"].cast(\"double\"))\n",
    "train_df = train_df.withColumn(\"GarageYrBlt\", train_df[\"GarageYrBlt\"].cast(\"double\"))\n",
    "\n",
    "test_df = test_df.withColumn(\"LotFrontage\", test_df[\"LotFrontage\"].cast(\"double\"))\n",
    "test_df = test_df.withColumn(\"MasVnrArea\", test_df[\"MasVnrArea\"].cast(\"double\"))\n",
    "test_df = test_df.withColumn(\"GarageYrBlt\", test_df[\"GarageYrBlt\"].cast(\"double\"))\n"
   ]
  },
  {
   "cell_type": "code",
   "execution_count": 39,
   "id": "8bdccd00",
   "metadata": {},
   "outputs": [],
   "source": [
    "selected_features = [\n",
    "    'MSSubClass', 'MSZoning', 'LotFrontage', 'LotArea', 'Street',\n",
    "    'OverallQual', 'OverallCond', 'YearBuilt', 'YearRemodAdd', 'RoofStyle',\n",
    "    'Condition1', 'Utilities', 'SaleType', 'SaleCondition', 'PoolArea',\n",
    "    'PavedDrive', 'GarageCars', 'GarageArea', 'BedroomAbvGr', 'KitchenAbvGr',\n",
    "    'FullBath', '1stFlrSF', '2ndFlrSF', 'CentralAir', 'Electrical',\n",
    "    'Heating', 'Foundation', 'HouseStyle'\n",
    "]\n",
    "label_col = \"SalePrice\""
   ]
  },
  {
   "cell_type": "code",
   "execution_count": 40,
   "id": "c5cfa6a0",
   "metadata": {},
   "outputs": [],
   "source": [
    "train_df = train_df.select(selected_features + [label_col])"
   ]
  },
  {
   "cell_type": "code",
   "execution_count": 41,
   "id": "cf37add1",
   "metadata": {},
   "outputs": [],
   "source": [
    "test_df = test_df.select(selected_features)"
   ]
  },
  {
   "cell_type": "code",
   "execution_count": 52,
   "id": "07058ce7",
   "metadata": {},
   "outputs": [],
   "source": [
    "categorical_cols = ['MSSubClass', 'MSZoning', 'Street', 'RoofStyle', 'Condition1', 'Utilities',\n",
    "                    'SaleType', 'SaleCondition', 'PavedDrive', 'CentralAir', 'Electrical',\n",
    "                    'Heating', 'Foundation', 'HouseStyle']\n",
    "numerical_cols = ['LotFrontage', 'LotArea', 'OverallQual', 'OverallCond', 'YearBuilt', 'YearRemodAdd',\n",
    "                  'PoolArea', 'GarageCars', 'GarageArea', 'BedroomAbvGr', 'KitchenAbvGr',\n",
    "                  'FullBath', '1stFlrSF', '2ndFlrSF']"
   ]
  },
  {
   "cell_type": "code",
   "execution_count": 43,
   "id": "6c4db646",
   "metadata": {},
   "outputs": [],
   "source": [
    "from pyspark.sql.functions import mean\n",
    "\n",
    "mean_values = train_df.agg(*(mean(c).alias(c) for c in numerical_cols)).collect()[0]\n",
    "mean_values_dict = mean_values.asDict()\n",
    "# Fill missing values with mean for numerical columns\n",
    "train_df = train_df.na.fill(mean_values_dict, subset=numerical_cols)\n",
    "train_df = train_df.dropna()\n"
   ]
  },
  {
   "cell_type": "code",
   "execution_count": 44,
   "id": "e15e1e7f",
   "metadata": {},
   "outputs": [],
   "source": [
    "indexers = [StringIndexer(inputCol=col, outputCol=col+\"_index\", handleInvalid=\"keep\") for col in categorical_cols]\n",
    "encoder = OneHotEncoder(inputCols=[indexer.getOutputCol() for indexer in indexers], \n",
    "                        outputCols=[col+\"_encoded\" for col in categorical_cols])\n"
   ]
  },
  {
   "cell_type": "code",
   "execution_count": 45,
   "id": "db8ddf24",
   "metadata": {},
   "outputs": [],
   "source": [
    "assembler_inputs = encoder.getOutputCols() + numerical_cols\n",
    "assembler = VectorAssembler(inputCols=assembler_inputs, outputCol='features',handleInvalid=\"skip\")"
   ]
  },
  {
   "cell_type": "code",
   "execution_count": 46,
   "id": "ef347588",
   "metadata": {},
   "outputs": [],
   "source": [
    "pipeline = Pipeline(stages=indexers + [encoder] + [assembler])"
   ]
  },
  {
   "cell_type": "code",
   "execution_count": 47,
   "id": "b9aa1533",
   "metadata": {},
   "outputs": [],
   "source": [
    "pipeline_model = pipeline.fit(train_df)\n",
    "train_df = pipeline_model.transform(train_df)"
   ]
  },
  {
   "cell_type": "code",
   "execution_count": 48,
   "id": "481ce520",
   "metadata": {},
   "outputs": [],
   "source": [
    "from pyspark.sql.functions import col\n",
    "train_df = train_df.withColumn(\"GarageCars\", col(\"GarageCars\").cast(\"integer\"))\n",
    "train_df = train_df.withColumn(\"GarageArea\", col(\"GarageArea\").cast(\"integer\"))\n",
    "\n",
    "test_df = test_df.withColumn(\"GarageCars\", col(\"GarageCars\").cast(\"integer\"))\n",
    "test_df = test_df.withColumn(\"GarageArea\", col(\"GarageArea\").cast(\"integer\"))"
   ]
  },
  {
   "cell_type": "code",
   "execution_count": 49,
   "id": "5cf8b0ea",
   "metadata": {},
   "outputs": [],
   "source": [
    "test_df = pipeline_model.transform(test_df)"
   ]
  },
  {
   "cell_type": "code",
   "execution_count": 50,
   "id": "280eeda8",
   "metadata": {},
   "outputs": [
    {
     "name": "stderr",
     "output_type": "stream",
     "text": [
      "24/06/16 09:28:08 WARN Instrumentation: [0f3d9239] regParam is zero, which might cause numerical instability and overfitting.\n",
      "24/06/16 09:28:10 WARN Instrumentation: [0f3d9239] Cholesky solver failed due to singular covariance matrix. Retrying with Quasi-Newton solver.\n",
      "                                                                                \r"
     ]
    }
   ],
   "source": [
    "from pyspark.ml.regression import LinearRegression\n",
    "\n",
    "# Define the Linear Regression model\n",
    "lr = LinearRegression(featuresCol='features', labelCol='SalePrice')\n",
    "\n",
    "# Train the model\n",
    "lr_model = lr.fit(train_df)"
   ]
  },
  {
   "cell_type": "code",
   "execution_count": 51,
   "id": "d2eff0f4",
   "metadata": {},
   "outputs": [
    {
     "name": "stdout",
     "output_type": "stream",
     "text": [
      "+----------+--------+-----------+-------+------+-----------+-----------+---------+------------+---------+----------+---------+--------+-------------+--------+----------+----------+----------+------------+------------+--------+--------+--------+----------+----------+-------+----------+----------+----------------+--------------+------------+---------------+----------------+---------------+--------------+-------------------+----------------+----------------+----------------+-------------+----------------+----------------+------------------+----------------+--------------+-----------------+------------------+-----------------+----------------+---------------------+------------------+------------------+------------------+---------------+------------------+------------------+--------------------+------------------+\n",
      "|MSSubClass|MSZoning|LotFrontage|LotArea|Street|OverallQual|OverallCond|YearBuilt|YearRemodAdd|RoofStyle|Condition1|Utilities|SaleType|SaleCondition|PoolArea|PavedDrive|GarageCars|GarageArea|BedroomAbvGr|KitchenAbvGr|FullBath|1stFlrSF|2ndFlrSF|CentralAir|Electrical|Heating|Foundation|HouseStyle|MSSubClass_index|MSZoning_index|Street_index|RoofStyle_index|Condition1_index|Utilities_index|SaleType_index|SaleCondition_index|PavedDrive_index|CentralAir_index|Electrical_index|Heating_index|Foundation_index|HouseStyle_index|MSSubClass_encoded|MSZoning_encoded|Street_encoded|RoofStyle_encoded|Condition1_encoded|Utilities_encoded|SaleType_encoded|SaleCondition_encoded|PavedDrive_encoded|CentralAir_encoded|Electrical_encoded|Heating_encoded|Foundation_encoded|HouseStyle_encoded|            features|        prediction|\n",
      "+----------+--------+-----------+-------+------+-----------+-----------+---------+------------+---------+----------+---------+--------+-------------+--------+----------+----------+----------+------------+------------+--------+--------+--------+----------+----------+-------+----------+----------+----------------+--------------+------------+---------------+----------------+---------------+--------------+-------------------+----------------+----------------+----------------+-------------+----------------+----------------+------------------+----------------+--------------+-----------------+------------------+-----------------+----------------+---------------------+------------------+------------------+------------------+---------------+------------------+------------------+--------------------+------------------+\n",
      "|        20|      RH|       80.0|  11622|  Pave|          5|          6|     1961|        1961|    Gable|     Feedr|   AllPub|      WD|       Normal|       0|         Y|         1|       730|           2|           1|       1|     896|       0|         Y|     SBrkr|   GasA|    CBlock|    1Story|             0.0|           3.0|         0.0|            0.0|             1.0|            0.0|           0.0|                0.0|             0.0|             0.0|             0.0|          0.0|             1.0|             0.0|    (15,[0],[1.0])|   (5,[3],[1.0])| (2,[0],[1.0])|    (6,[0],[1.0])|     (9,[1],[1.0])|    (2,[0],[1.0])|   (9,[0],[1.0])|        (6,[0],[1.0])|     (3,[0],[1.0])|     (2,[0],[1.0])|     (6,[0],[1.0])|  (6,[0],[1.0])|     (6,[1],[1.0])|     (8,[0],[1.0])|(99,[0,18,20,22,2...|107905.19315158669|\n",
      "|        20|      RL|       81.0|  14267|  Pave|          6|          6|     1958|        1958|      Hip|      Norm|   AllPub|      WD|       Normal|       0|         Y|         1|       312|           3|           1|       1|    1329|       0|         Y|     SBrkr|   GasA|    CBlock|    1Story|             0.0|           0.0|         0.0|            1.0|             0.0|            0.0|           0.0|                0.0|             0.0|             0.0|             0.0|          0.0|             1.0|             0.0|    (15,[0],[1.0])|   (5,[0],[1.0])| (2,[0],[1.0])|    (6,[1],[1.0])|     (9,[0],[1.0])|    (2,[0],[1.0])|   (9,[0],[1.0])|        (6,[0],[1.0])|     (3,[0],[1.0])|     (2,[0],[1.0])|     (6,[0],[1.0])|  (6,[0],[1.0])|     (6,[1],[1.0])|     (8,[0],[1.0])|(99,[0,15,20,23,2...| 172802.8845326139|\n",
      "|        60|      RL|       74.0|  13830|  Pave|          5|          5|     1997|        1998|    Gable|      Norm|   AllPub|      WD|       Normal|       0|         Y|         2|       482|           3|           1|       2|     928|     701|         Y|     SBrkr|   GasA|     PConc|    2Story|             1.0|           0.0|         0.0|            0.0|             0.0|            0.0|           0.0|                0.0|             0.0|             0.0|             0.0|          0.0|             0.0|             1.0|    (15,[1],[1.0])|   (5,[0],[1.0])| (2,[0],[1.0])|    (6,[0],[1.0])|     (9,[0],[1.0])|    (2,[0],[1.0])|   (9,[0],[1.0])|        (6,[0],[1.0])|     (3,[0],[1.0])|     (2,[0],[1.0])|     (6,[0],[1.0])|  (6,[0],[1.0])|     (6,[0],[1.0])|     (8,[1],[1.0])|(99,[1,15,20,22,2...|168982.74562738638|\n",
      "|        60|      RL|       78.0|   9978|  Pave|          6|          6|     1998|        1998|    Gable|      Norm|   AllPub|      WD|       Normal|       0|         Y|         2|       470|           3|           1|       2|     926|     678|         Y|     SBrkr|   GasA|     PConc|    2Story|             1.0|           0.0|         0.0|            0.0|             0.0|            0.0|           0.0|                0.0|             0.0|             0.0|             0.0|          0.0|             0.0|             1.0|    (15,[1],[1.0])|   (5,[0],[1.0])| (2,[0],[1.0])|    (6,[0],[1.0])|     (9,[0],[1.0])|    (2,[0],[1.0])|   (9,[0],[1.0])|        (6,[0],[1.0])|     (3,[0],[1.0])|     (2,[0],[1.0])|     (6,[0],[1.0])|  (6,[0],[1.0])|     (6,[0],[1.0])|     (8,[1],[1.0])|(99,[1,15,20,22,2...|188452.25250080996|\n",
      "|       120|      RL|       43.0|   5005|  Pave|          8|          5|     1992|        1992|    Gable|      Norm|   AllPub|      WD|       Normal|       0|         Y|         2|       506|           2|           1|       2|    1280|       0|         Y|     SBrkr|   GasA|     PConc|    1Story|             3.0|           0.0|         0.0|            0.0|             0.0|            0.0|           0.0|                0.0|             0.0|             0.0|             0.0|          0.0|             0.0|             0.0|    (15,[3],[1.0])|   (5,[0],[1.0])| (2,[0],[1.0])|    (6,[0],[1.0])|     (9,[0],[1.0])|    (2,[0],[1.0])|   (9,[0],[1.0])|        (6,[0],[1.0])|     (3,[0],[1.0])|     (2,[0],[1.0])|     (6,[0],[1.0])|  (6,[0],[1.0])|     (6,[0],[1.0])|     (8,[0],[1.0])|(99,[3,15,20,22,2...|207080.46922625392|\n",
      "|        60|      RL|       75.0|  10000|  Pave|          6|          5|     1993|        1994|    Gable|      Norm|   AllPub|      WD|       Normal|       0|         Y|         2|       440|           3|           1|       2|     763|     892|         Y|     SBrkr|   GasA|     PConc|    2Story|             1.0|           0.0|         0.0|            0.0|             0.0|            0.0|           0.0|                0.0|             0.0|             0.0|             0.0|          0.0|             0.0|             1.0|    (15,[1],[1.0])|   (5,[0],[1.0])| (2,[0],[1.0])|    (6,[0],[1.0])|     (9,[0],[1.0])|    (2,[0],[1.0])|   (9,[0],[1.0])|        (6,[0],[1.0])|     (3,[0],[1.0])|     (2,[0],[1.0])|     (6,[0],[1.0])|  (6,[0],[1.0])|     (6,[0],[1.0])|     (8,[1],[1.0])|(99,[1,15,20,22,2...|  187114.687864942|\n",
      "|        60|      RL|       63.0|   8402|  Pave|          6|          5|     1998|        1998|    Gable|      Norm|   AllPub|      WD|       Normal|       0|         Y|         2|       393|           3|           1|       2|     789|     676|         Y|     SBrkr|   GasA|     PConc|    2Story|             1.0|           0.0|         0.0|            0.0|             0.0|            0.0|           0.0|                0.0|             0.0|             0.0|             0.0|          0.0|             0.0|             1.0|    (15,[1],[1.0])|   (5,[0],[1.0])| (2,[0],[1.0])|    (6,[0],[1.0])|     (9,[0],[1.0])|    (2,[0],[1.0])|   (9,[0],[1.0])|        (6,[0],[1.0])|     (3,[0],[1.0])|     (2,[0],[1.0])|     (6,[0],[1.0])|  (6,[0],[1.0])|     (6,[0],[1.0])|     (8,[1],[1.0])|(99,[1,15,20,22,2...| 172221.9482607192|\n",
      "|        20|      RL|       85.0|  10176|  Pave|          7|          5|     1990|        1990|    Gable|      Norm|   AllPub|      WD|       Normal|       0|         Y|         2|       506|           2|           1|       1|    1341|       0|         Y|     SBrkr|   GasA|     PConc|    1Story|             0.0|           0.0|         0.0|            0.0|             0.0|            0.0|           0.0|                0.0|             0.0|             0.0|             0.0|          0.0|             0.0|             0.0|    (15,[0],[1.0])|   (5,[0],[1.0])| (2,[0],[1.0])|    (6,[0],[1.0])|     (9,[0],[1.0])|    (2,[0],[1.0])|   (9,[0],[1.0])|        (6,[0],[1.0])|     (3,[0],[1.0])|     (2,[0],[1.0])|     (6,[0],[1.0])|  (6,[0],[1.0])|     (6,[0],[1.0])|     (8,[0],[1.0])|(99,[0,15,20,22,2...|212105.19195949286|\n",
      "|        20|      RL|       70.0|   8400|  Pave|          4|          5|     1970|        1970|    Gable|      Norm|   AllPub|      WD|       Normal|       0|         Y|         2|       525|           2|           1|       1|     882|       0|         Y|     SBrkr|   GasA|    CBlock|    1Story|             0.0|           0.0|         0.0|            0.0|             0.0|            0.0|           0.0|                0.0|             0.0|             0.0|             0.0|          0.0|             1.0|             0.0|    (15,[0],[1.0])|   (5,[0],[1.0])| (2,[0],[1.0])|    (6,[0],[1.0])|     (9,[0],[1.0])|    (2,[0],[1.0])|   (9,[0],[1.0])|        (6,[0],[1.0])|     (3,[0],[1.0])|     (2,[0],[1.0])|     (6,[0],[1.0])|  (6,[0],[1.0])|     (6,[1],[1.0])|     (8,[0],[1.0])|(99,[0,15,20,22,2...|109877.36766727315|\n",
      "|       120|      RH|       26.0|   5858|  Pave|          7|          5|     1999|        1999|    Gable|      Norm|   AllPub|      WD|       Normal|       0|         Y|         2|       511|           2|           1|       2|    1337|       0|         Y|     SBrkr|   GasA|     PConc|    1Story|             3.0|           3.0|         0.0|            0.0|             0.0|            0.0|           0.0|                0.0|             0.0|             0.0|             0.0|          0.0|             0.0|             0.0|    (15,[3],[1.0])|   (5,[3],[1.0])| (2,[0],[1.0])|    (6,[0],[1.0])|     (9,[0],[1.0])|    (2,[0],[1.0])|   (9,[0],[1.0])|        (6,[0],[1.0])|     (3,[0],[1.0])|     (2,[0],[1.0])|     (6,[0],[1.0])|  (6,[0],[1.0])|     (6,[0],[1.0])|     (8,[0],[1.0])|(99,[3,18,20,22,2...| 198547.9325688684|\n",
      "|       160|      RM|       21.0|   1680|  Pave|          6|          5|     1971|        1971|    Gable|      Norm|   AllPub|     COD|       Normal|       0|         Y|         1|       264|           2|           1|       1|     483|     504|         Y|     SBrkr|   GasA|    CBlock|    2Story|             5.0|           1.0|         0.0|            0.0|             0.0|            0.0|           2.0|                0.0|             0.0|             0.0|             0.0|          0.0|             1.0|             1.0|    (15,[5],[1.0])|   (5,[1],[1.0])| (2,[0],[1.0])|    (6,[0],[1.0])|     (9,[0],[1.0])|    (2,[0],[1.0])|   (9,[2],[1.0])|        (6,[0],[1.0])|     (3,[0],[1.0])|     (2,[0],[1.0])|     (6,[0],[1.0])|  (6,[0],[1.0])|     (6,[1],[1.0])|     (8,[1],[1.0])|(99,[5,16,20,22,2...|  76741.8598124123|\n",
      "|       160|      RM|       21.0|   1680|  Pave|          5|          5|     1971|        1971|    Gable|      Norm|   AllPub|      WD|       Normal|       0|         Y|         1|       320|           3|           1|       1|     525|     567|         Y|     SBrkr|   GasA|    CBlock|    2Story|             5.0|           1.0|         0.0|            0.0|             0.0|            0.0|           0.0|                0.0|             0.0|             0.0|             0.0|          0.0|             1.0|             1.0|    (15,[5],[1.0])|   (5,[1],[1.0])| (2,[0],[1.0])|    (6,[0],[1.0])|     (9,[0],[1.0])|    (2,[0],[1.0])|   (9,[0],[1.0])|        (6,[0],[1.0])|     (3,[0],[1.0])|     (2,[0],[1.0])|     (6,[0],[1.0])|  (6,[0],[1.0])|     (6,[1],[1.0])|     (8,[1],[1.0])|(99,[5,16,20,22,2...| 75120.53979532747|\n",
      "|       160|      RL|       24.0|   2280|  Pave|          6|          6|     1975|        1975|    Gable|      Norm|   AllPub|      WD|       Normal|       0|         Y|         2|       440|           3|           1|       2|     855|     601|         Y|     SBrkr|   GasA|    CBlock|    2Story|             5.0|           0.0|         0.0|            0.0|             0.0|            0.0|           0.0|                0.0|             0.0|             0.0|             0.0|          0.0|             1.0|             1.0|    (15,[5],[1.0])|   (5,[0],[1.0])| (2,[0],[1.0])|    (6,[0],[1.0])|     (9,[0],[1.0])|    (2,[0],[1.0])|   (9,[0],[1.0])|        (6,[0],[1.0])|     (3,[0],[1.0])|     (2,[0],[1.0])|     (6,[0],[1.0])|  (6,[0],[1.0])|     (6,[1],[1.0])|     (8,[1],[1.0])|(99,[5,15,20,22,2...|147199.66853650333|\n",
      "|       120|      RL|       24.0|   2280|  Pave|          7|          6|     1975|        1975|    Gable|      Norm|   AllPub|      WD|       Normal|       0|         Y|         1|       308|           2|           1|       1|     836|       0|         Y|     SBrkr|   GasA|    CBlock|    1Story|             3.0|           0.0|         0.0|            0.0|             0.0|            0.0|           0.0|                0.0|             0.0|             0.0|             0.0|          0.0|             1.0|             0.0|    (15,[3],[1.0])|   (5,[0],[1.0])| (2,[0],[1.0])|    (6,[0],[1.0])|     (9,[0],[1.0])|    (2,[0],[1.0])|   (9,[0],[1.0])|        (6,[0],[1.0])|     (3,[0],[1.0])|     (2,[0],[1.0])|     (6,[0],[1.0])|  (6,[0],[1.0])|     (6,[1],[1.0])|     (8,[0],[1.0])|(99,[3,15,20,22,2...|139329.25918339833|\n",
      "|        60|      RL|      102.0|  12858|  Pave|          9|          5|     2009|        2010|    Gable|      Norm|   AllPub|     New|      Partial|       0|         Y|         3|       751|           3|           1|       2|    1627|     707|         Y|     SBrkr|   GasA|     PConc|    2Story|             1.0|           0.0|         0.0|            0.0|             0.0|            0.0|           1.0|                1.0|             0.0|             0.0|             0.0|          0.0|             0.0|             1.0|    (15,[1],[1.0])|   (5,[0],[1.0])| (2,[0],[1.0])|    (6,[0],[1.0])|     (9,[0],[1.0])|    (2,[0],[1.0])|   (9,[1],[1.0])|        (6,[1],[1.0])|     (3,[0],[1.0])|     (2,[0],[1.0])|     (6,[0],[1.0])|  (6,[0],[1.0])|     (6,[0],[1.0])|     (8,[1],[1.0])|(99,[1,15,20,22,2...| 333366.6422379194|\n",
      "|        20|      RL|       94.0|  12883|  Pave|          8|          5|     2009|        2010|    Gable|      Norm|   AllPub|     New|      Partial|       0|         Y|         3|       868|           3|           1|       2|    1544|       0|         Y|     SBrkr|   GasA|     PConc|    1Story|             0.0|           0.0|         0.0|            0.0|             0.0|            0.0|           1.0|                1.0|             0.0|             0.0|             0.0|          0.0|             0.0|             0.0|    (15,[0],[1.0])|   (5,[0],[1.0])| (2,[0],[1.0])|    (6,[0],[1.0])|     (9,[0],[1.0])|    (2,[0],[1.0])|   (9,[1],[1.0])|        (6,[1],[1.0])|     (3,[0],[1.0])|     (2,[0],[1.0])|     (6,[0],[1.0])|  (6,[0],[1.0])|     (6,[0],[1.0])|     (8,[0],[1.0])|(99,[0,15,20,22,2...|277218.96261063777|\n",
      "|        20|      RL|       90.0|  11520|  Pave|          9|          5|     2005|        2005|      Hip|      PosN|   AllPub|      WD|       Normal|       0|         Y|         3|       730|           3|           1|       2|    1698|       0|         Y|     SBrkr|   GasA|     PConc|    1Story|             0.0|           0.0|         0.0|            1.0|             4.0|            0.0|           0.0|                0.0|             0.0|             0.0|             0.0|          0.0|             0.0|             0.0|    (15,[0],[1.0])|   (5,[0],[1.0])| (2,[0],[1.0])|    (6,[1],[1.0])|     (9,[4],[1.0])|    (2,[0],[1.0])|   (9,[0],[1.0])|        (6,[0],[1.0])|     (3,[0],[1.0])|     (2,[0],[1.0])|     (6,[0],[1.0])|  (6,[0],[1.0])|     (6,[0],[1.0])|     (8,[0],[1.0])|(99,[0,15,20,23,3...| 266129.6143818407|\n",
      "|        20|      RL|       79.0|  14122|  Pave|          8|          5|     2005|        2006|      Hip|      Norm|   AllPub|      WD|       Normal|       0|         Y|         3|       678|           3|           1|       2|    1822|       0|         Y|     SBrkr|   GasA|     PConc|    1Story|             0.0|           0.0|         0.0|            1.0|             0.0|            0.0|           0.0|                0.0|             0.0|             0.0|             0.0|          0.0|             0.0|             0.0|    (15,[0],[1.0])|   (5,[0],[1.0])| (2,[0],[1.0])|    (6,[1],[1.0])|     (9,[0],[1.0])|    (2,[0],[1.0])|   (9,[0],[1.0])|        (6,[0],[1.0])|     (3,[0],[1.0])|     (2,[0],[1.0])|     (6,[0],[1.0])|  (6,[0],[1.0])|     (6,[0],[1.0])|     (8,[0],[1.0])|(99,[0,15,20,23,2...|286931.90453617414|\n",
      "|        20|      RL|      110.0|  14300|  Pave|          9|          5|     2003|        2004|      Hip|      Norm|   AllPub|      WD|       Normal|       0|         Y|         3|       958|           3|           1|       2|    2696|       0|         Y|     SBrkr|   GasA|     PConc|    1Story|             0.0|           0.0|         0.0|            1.0|             0.0|            0.0|           0.0|                0.0|             0.0|             0.0|             0.0|          0.0|             0.0|             0.0|    (15,[0],[1.0])|   (5,[0],[1.0])| (2,[0],[1.0])|    (6,[1],[1.0])|     (9,[0],[1.0])|    (2,[0],[1.0])|   (9,[0],[1.0])|        (6,[0],[1.0])|     (3,[0],[1.0])|     (2,[0],[1.0])|     (6,[0],[1.0])|  (6,[0],[1.0])|     (6,[0],[1.0])|     (8,[0],[1.0])|(99,[0,15,20,23,2...|372147.71471657814|\n",
      "|        60|      RL|      105.0|  13650|  Pave|          8|          5|     2002|        2002|    Gable|      Norm|   AllPub|      WD|       Normal|       0|         Y|         3|       756|           3|           1|       2|    1687|     563|         Y|     SBrkr|   GasA|     PConc|    2Story|             1.0|           0.0|         0.0|            0.0|             0.0|            0.0|           0.0|                0.0|             0.0|             0.0|             0.0|          0.0|             0.0|             1.0|    (15,[1],[1.0])|   (5,[0],[1.0])| (2,[0],[1.0])|    (6,[0],[1.0])|     (9,[0],[1.0])|    (2,[0],[1.0])|   (9,[0],[1.0])|        (6,[0],[1.0])|     (3,[0],[1.0])|     (2,[0],[1.0])|     (6,[0],[1.0])|  (6,[0],[1.0])|     (6,[0],[1.0])|     (8,[1],[1.0])|(99,[1,15,20,22,2...| 283797.9294841648|\n",
      "+----------+--------+-----------+-------+------+-----------+-----------+---------+------------+---------+----------+---------+--------+-------------+--------+----------+----------+----------+------------+------------+--------+--------+--------+----------+----------+-------+----------+----------+----------------+--------------+------------+---------------+----------------+---------------+--------------+-------------------+----------------+----------------+----------------+-------------+----------------+----------------+------------------+----------------+--------------+-----------------+------------------+-----------------+----------------+---------------------+------------------+------------------+------------------+---------------+------------------+------------------+--------------------+------------------+\n",
      "only showing top 20 rows\n",
      "\n"
     ]
    }
   ],
   "source": [
    "predictions = lr_model.transform(test_df)\n",
    "predictions.show()"
   ]
  },
  {
   "cell_type": "code",
   "execution_count": 62,
   "id": "4f34dec0",
   "metadata": {},
   "outputs": [],
   "source": [
    "from pyspark.sql.functions import col, sqrt\n",
    "from pyspark.sql import functions as F\n"
   ]
  },
  {
   "cell_type": "code",
   "execution_count": 63,
   "id": "72f8b959",
   "metadata": {},
   "outputs": [
    {
     "name": "stderr",
     "output_type": "stream",
     "text": [
      "[Stage 113:>                                                        (0 + 1) / 1]\r"
     ]
    },
    {
     "name": "stdout",
     "output_type": "stream",
     "text": [
      "Root Mean Squared Error (RMSE) on Training Data: 34103.125602421336\n"
     ]
    },
    {
     "name": "stderr",
     "output_type": "stream",
     "text": [
      "                                                                                \r"
     ]
    }
   ],
   "source": [
    "predictions_train = lr_model.transform(train_df)\n",
    "\n",
    "# Calculate squared error\n",
    "predictions_train = predictions_train.withColumn(\"squared_error\", (col(\"SalePrice\") - col(\"prediction\")) ** 2)\n",
    "\n",
    "# Calculate RMSE\n",
    "rmse = predictions_train.agg(F.sqrt(F.mean(F.col(\"squared_error\"))).alias(\"rmse\")).first()[\"rmse\"]\n",
    "\n",
    "print(f\"Root Mean Squared Error (RMSE) on Training Data: {rmse}\")\n"
   ]
  },
  {
   "cell_type": "code",
   "execution_count": 65,
   "id": "51e819b0",
   "metadata": {},
   "outputs": [
    {
     "name": "stdout",
     "output_type": "stream",
     "text": [
      " 2A_House_Prediction.ipynb\r\n",
      "'2A_House_Prediction_Linear Regression.ipynb'\r\n",
      " Employee_Compensation.csv\r\n",
      " \u001b[0m\u001b[01;34mHouse_Price_prediction_gbt_model\u001b[0m/\r\n",
      "'ML_system_using_PySpark (1).ipynb'\r\n",
      "'Part-2 Question Notebook-.ipynb'\r\n",
      " iot_devices.json\r\n",
      " \u001b[01;34mlrmodel\u001b[0m/\r\n",
      " \u001b[01;34mml-vm-notebook\u001b[0m/\r\n",
      " \u001b[01;34mspark-3.5.1-bin-hadoop3\u001b[0m/\r\n",
      " \u001b[01;34msubmission.csv\u001b[0m/\r\n",
      " test.csv\r\n",
      " train.csv\r\n",
      " week5_8_Pyspark_Assignment.ipynb\r\n"
     ]
    }
   ],
   "source": [
    "ls"
   ]
  },
  {
   "cell_type": "code",
   "execution_count": 66,
   "id": "4c4606c8",
   "metadata": {},
   "outputs": [
    {
     "name": "stderr",
     "output_type": "stream",
     "text": [
      "                                                                                \r"
     ]
    },
    {
     "name": "stdout",
     "output_type": "stream",
     "text": [
      "Model Saved Successfully\n"
     ]
    }
   ],
   "source": [
    "model_path = \"House_Price_prediction_Linear_model\"\n",
    "# Save the model\n",
    "lr_model.save(model_path)\n",
    "print(\"Model Saved Successfully\")"
   ]
  },
  {
   "cell_type": "code",
   "execution_count": 67,
   "id": "d4d14670",
   "metadata": {},
   "outputs": [
    {
     "name": "stdout",
     "output_type": "stream",
     "text": [
      " 2A_House_Prediction.ipynb\r\n",
      "'2A_House_Prediction_Linear Regression.ipynb'\r\n",
      " Employee_Compensation.csv\r\n",
      " \u001b[0m\u001b[01;34mHouse_Price_prediction_Linear_model\u001b[0m/\r\n",
      " \u001b[01;34mHouse_Price_prediction_gbt_model\u001b[0m/\r\n",
      "'ML_system_using_PySpark (1).ipynb'\r\n",
      "'Part-2 Question Notebook-.ipynb'\r\n",
      " iot_devices.json\r\n",
      " \u001b[01;34mlrmodel\u001b[0m/\r\n",
      " \u001b[01;34mml-vm-notebook\u001b[0m/\r\n",
      " \u001b[01;34mspark-3.5.1-bin-hadoop3\u001b[0m/\r\n",
      " \u001b[01;34msubmission.csv\u001b[0m/\r\n",
      " test.csv\r\n",
      " train.csv\r\n",
      " week5_8_Pyspark_Assignment.ipynb\r\n"
     ]
    }
   ],
   "source": [
    "ls"
   ]
  },
  {
   "cell_type": "code",
   "execution_count": null,
   "id": "be66539d",
   "metadata": {},
   "outputs": [],
   "source": []
  }
 ],
 "metadata": {
  "kernelspec": {
   "display_name": "Python 3 (ipykernel)",
   "language": "python",
   "name": "python3"
  },
  "language_info": {
   "codemirror_mode": {
    "name": "ipython",
    "version": 3
   },
   "file_extension": ".py",
   "mimetype": "text/x-python",
   "name": "python",
   "nbconvert_exporter": "python",
   "pygments_lexer": "ipython3",
   "version": "3.12.3"
  }
 },
 "nbformat": 4,
 "nbformat_minor": 5
}
